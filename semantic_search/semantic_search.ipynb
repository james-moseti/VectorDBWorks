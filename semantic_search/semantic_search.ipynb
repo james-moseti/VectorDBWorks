{
 "cells": [
  {
   "cell_type": "code",
   "execution_count": 5,
   "metadata": {},
   "outputs": [],
   "source": [
    "import warnings\n",
    "warnings.filterwarnings('ignore')"
   ]
  },
  {
   "cell_type": "code",
   "execution_count": 6,
   "metadata": {},
   "outputs": [],
   "source": [
    "import os\n",
    "import time\n",
    "import torch\n",
    "import DLAIUtils\n",
    "import numpy as np\n",
    "from tqdm.auto import tqdm\n",
    "from datasets import load_dataset\n",
    "from sentence_transformers import SentenceTransformer\n",
    "from pinecone import Pinecone, ServerlessSpec\n",
    "from DLAIUtils import Utils"
   ]
  },
  {
   "cell_type": "code",
   "execution_count": 7,
   "metadata": {},
   "outputs": [],
   "source": [
    "dataset = load_dataset('quora', split='train[240000:290000]')"
   ]
  },
  {
   "cell_type": "code",
   "execution_count": 8,
   "metadata": {},
   "outputs": [
    {
     "data": {
      "text/plain": [
       "{'questions': [{'id': [207550, 351729],\n",
       "   'text': ['What is the truth of life?', \"What's the evil truth of life?\"]},\n",
       "  {'id': [33183, 351730],\n",
       "   'text': ['Which is the best smartphone under 20K in India?',\n",
       "    'Which is the best smartphone with in 20k in India?']},\n",
       "  {'id': [351731, 351732],\n",
       "   'text': ['Steps taken by Canadian government to improve literacy rate?',\n",
       "    'Can I send homemade herbal hair oil from India to US via postal or private courier services?']},\n",
       "  {'id': [37799, 94186],\n",
       "   'text': ['What is a good way to lose 30 pounds in 2 months?',\n",
       "    'What can I do to lose 30 pounds in 2 months?']},\n",
       "  {'id': [351733, 351734],\n",
       "   'text': ['Which of the following most accurately describes the translation of the graph y = (x+3)^2 -2 to the graph of y = (x -2)^2 +2?',\n",
       "    'How do you graph x + 2y = -2?']}],\n",
       " 'is_duplicate': [False, True, False, True, False]}"
      ]
     },
     "execution_count": 8,
     "metadata": {},
     "output_type": "execute_result"
    }
   ],
   "source": [
    "dataset[:5]"
   ]
  },
  {
   "cell_type": "code",
   "execution_count": 9,
   "metadata": {},
   "outputs": [
    {
     "name": "stdout",
     "output_type": "stream",
     "text": [
      "What is the truth of life?\n",
      "What's the evil truth of life?\n",
      "Which is the best smartphone under 20K in India?\n",
      "Which is the best smartphone with in 20k in India?\n",
      "Steps taken by Canadian government to improve literacy rate?\n",
      "Can I send homemade herbal hair oil from India to US via postal or private courier services?\n",
      "What is a good way to lose 30 pounds in 2 months?\n",
      "What can I do to lose 30 pounds in 2 months?\n",
      "Which of the following most accurately describes the translation of the graph y = (x+3)^2 -2 to the graph of y = (x -2)^2 +2?\n",
      "How do you graph x + 2y = -2?\n",
      "--------------------------------------------------\n",
      "Number of questions: 100000\n"
     ]
    }
   ],
   "source": [
    "questions = []\n",
    "for record in dataset['questions']:\n",
    "    questions.extend(record['text'])\n",
    "question = list(set(questions))\n",
    "print('\\n'.join(questions[:10]))\n",
    "print('-' * 50)\n",
    "print(f\"Number of questions: {len(questions)}\")"
   ]
  },
  {
   "cell_type": "code",
   "execution_count": 10,
   "metadata": {},
   "outputs": [
    {
     "name": "stdout",
     "output_type": "stream",
     "text": [
      "Sorry bro no cuda.\n"
     ]
    }
   ],
   "source": [
    "device = 'cuda' if torch.cuda.is_available() else 'cpu'\n",
    "if device != 'cuda':\n",
    "    print(\"Sorry bro no cuda.\")\n",
    "model = SentenceTransformer('all-MiniLM-L6-v2', device=device)"
   ]
  },
  {
   "cell_type": "code",
   "execution_count": 11,
   "metadata": {},
   "outputs": [
    {
     "data": {
      "text/plain": [
       "(384,)"
      ]
     },
     "execution_count": 11,
     "metadata": {},
     "output_type": "execute_result"
    }
   ],
   "source": [
    "query = \"Which city is the most populated in the world?\"\n",
    "xq = model.encode(query)\n",
    "xq.shape"
   ]
  },
  {
   "cell_type": "code",
   "execution_count": 22,
   "metadata": {},
   "outputs": [
    {
     "name": "stdout",
     "output_type": "stream",
     "text": [
      "<pinecone.data.index.Index object at 0x7f9723287e50>\n"
     ]
    }
   ],
   "source": [
    "utils = Utils()\n",
    "PINECONE_API_KEY = utils.get_pinecone_api_key()\n",
    "\n",
    "pinecone = Pinecone(api_key=PINECONE_API_KEY) \n",
    "INDEX_NAME = utils.create_dlai_index_name('dl-ai')\n",
    "\n",
    "if INDEX_NAME in [index.name for index in pinecone.list_indexes()]:\n",
    "    pinecone.delete_index(INDEX_NAME)\n",
    "#print(INDEX_NAME)\n",
    "\n",
    "pinecone.create_index(name=INDEX_NAME, dimension=model.get_sentence_embedding_dimension(), metric='cosine', \n",
    "                      spec=ServerlessSpec(cloud='aws', region='us-east-1'))\n",
    "index = pinecone.Index(INDEX_NAME)\n",
    "print(index)"
   ]
  },
  {
   "cell_type": "code",
   "execution_count": 14,
   "metadata": {},
   "outputs": [
    {
     "name": "stderr",
     "output_type": "stream",
     "text": [
      "Processing Batches: 100%|██████████| 50/50 [04:10<00:00,  5.02s/it]\n"
     ]
    }
   ],
   "source": [
    "batch_size = 200\n",
    "vector_limit = 10000\n",
    "\n",
    "questions = question[:vector_limit]\n",
    "\n",
    "# Process in batches\n",
    "for i in tqdm(range(0, len(questions), batch_size), desc=\"Processing Batches\"):\n",
    "    i_end = min(i + batch_size, len(questions))   # Finding the end of the batch\n",
    "    batch_questions = questions[i:i_end]  # Slice batch\n",
    "\n",
    "    ids = [str(x) for x in range(i, i_end)]\n",
    "    metadatas = [{'text': text} for text in batch_questions]\n",
    "\n",
    "    # Generating embeddings (Enable multiprocessing)\n",
    "    xc = model.encode(batch_questions, batch_size=32, show_progress_bar=False, convert_to_numpy=True)\n",
    "\n",
    "    # Convert to list for upsert\n",
    "    records = list(zip(ids, xc.tolist(), metadatas))\n",
    "    \n",
    "    try:\n",
    "        index.upsert(vectors=records)\n",
    "    except Exception as e:\n",
    "        print(f\"Error during upsert at batch {i}-{i_end}: {e}\")"
   ]
  },
  {
   "cell_type": "code",
   "execution_count": 15,
   "metadata": {},
   "outputs": [
    {
     "data": {
      "text/plain": [
       "{'dimension': 384,\n",
       " 'index_fullness': 0.0,\n",
       " 'metric': 'cosine',\n",
       " 'namespaces': {'': {'vector_count': 10000}},\n",
       " 'total_vector_count': 10000,\n",
       " 'vector_type': 'dense'}"
      ]
     },
     "execution_count": 15,
     "metadata": {},
     "output_type": "execute_result"
    }
   ],
   "source": [
    "index.describe_index_stats()"
   ]
  },
  {
   "cell_type": "code",
   "execution_count": 19,
   "metadata": {},
   "outputs": [
    {
     "name": "stdout",
     "output_type": "stream",
     "text": [
      "0.86: Where is largest zoo in india?\n",
      "0.59: What is your opinion on zoos?\n",
      "0.5: Which is the biggest football stadium in the world?\n",
      "0.47: What country has the fastest growing population and why?\n",
      "0.47: What is the most beautiful city in the world?\n",
      "0.46: What are the coldest countries in the world?\n",
      "0.45: Which is the safest country in the world?\n",
      "0.45: What is the most racist country?\n",
      "0.45: What is the greatest, most beautiful city in the world?\n",
      "0.43: What is the most interesting and exciting country?\n"
     ]
    }
   ],
   "source": [
    "def run_query(query):\n",
    "    embedding = model.encode(query).tolist()\n",
    "    results = index.query(top_k=10, vector=embedding, include_metadata=True, include_values=False)\n",
    "    for result in results['matches']:\n",
    "        print(f\"{round(result['score'], 2)}: {result['metadata']['text']}\")\n",
    "        \n",
    "run_query(\"Which country has the largest zoo in the world?\")"
   ]
  },
  {
   "cell_type": "code",
   "execution_count": 20,
   "metadata": {},
   "outputs": [
    {
     "name": "stdout",
     "output_type": "stream",
     "text": [
      "0.62: What're the differences between cooking eggs certain ways?\n",
      "0.53: What should I eat for breakfast?\n",
      "0.48: Is raw egg good for health?\n",
      "0.48: What are some Atkins meals for which I don't have to deal with raw meat or raw eggs?\n",
      "0.47: Why egg becomes hard when we boil it?\n",
      "0.46: Is it safe to eat raw unpasteurized eggs?\n",
      "0.42: If I were to eat the same thing for breakfast every day, what should that food item be?\n",
      "0.4: What is the best way to cook spaghetti?\n",
      "0.38: How do I sleep early and wake up early?\n",
      "0.38: What is the recipe for vattalappam?\n"
     ]
    }
   ],
   "source": [
    "query = \"How to prepare scrambled eggs?\"\n",
    "run_query(query)"
   ]
  }
 ],
 "metadata": {
  "kernelspec": {
   "display_name": "vectordb-apps-env",
   "language": "python",
   "name": "python3"
  },
  "language_info": {
   "codemirror_mode": {
    "name": "ipython",
    "version": 3
   },
   "file_extension": ".py",
   "mimetype": "text/x-python",
   "name": "python",
   "nbconvert_exporter": "python",
   "pygments_lexer": "ipython3",
   "version": "3.10.16"
  }
 },
 "nbformat": 4,
 "nbformat_minor": 2
}
